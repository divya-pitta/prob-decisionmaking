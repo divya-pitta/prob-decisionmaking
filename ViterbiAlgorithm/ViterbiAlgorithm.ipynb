{
 "cells": [
  {
   "cell_type": "code",
   "execution_count": 75,
   "metadata": {},
   "outputs": [],
   "source": [
    "import numpy as np\n",
    "import math\n",
    "\n",
    "initialDist = np.loadtxt(\"hw7_initialStateDistribution.txt\")\n",
    "transitionMat = np.loadtxt(\"hw7_transitionMatrix.txt\")\n",
    "emissionMat = np.loadtxt(\"hw7_emissionMatrix.txt\")\n",
    "observations = np.loadtxt(\"hw7_observations.txt\")\n",
    "observations = observations.astype(int)\n",
    "\n",
    "hiddenStateLength = len(initialDist) \n",
    "totalObs = len(observations)\n",
    "logProb = np.zeros(shape=(hiddenStateLength, totalObs))\n",
    "lastMaxSeen = np.zeros(shape=(totalObs, hiddenStateLength))"
   ]
  },
  {
   "cell_type": "code",
   "execution_count": 56,
   "metadata": {},
   "outputs": [],
   "source": [
    "for i in range(hiddenStateLength):\n",
    "    logProb[i][0] = math.log(initialDist[i]) + math.log(emissionMat[i][observations[0]])"
   ]
  },
  {
   "cell_type": "code",
   "execution_count": 62,
   "metadata": {},
   "outputs": [
    {
     "name": "stdout",
     "output_type": "stream",
     "text": [
      "Done\n"
     ]
    }
   ],
   "source": [
    "for k in range(1, totalObs):\n",
    "    for j in range(hiddenStateLength):\n",
    "        max1 = float(-math.inf)\n",
    "        maxOccurs = 0\n",
    "        for i in range(hiddenStateLength):\n",
    "            curr = logProb[i][k-1] + math.log(transitionMat[i][j]) # np.max( logProb[:,k-1] + math.log( transitionMat[:,j]))\n",
    "            if(max1 < curr):\n",
    "                max1 = curr\n",
    "                maxOccurs = i\n",
    "        logProb[j][k] = max1 + math.log(emissionMat[j][observations[k]])\n",
    "        lastMaxSeen[k][j] = maxOccurs"
   ]
  },
  {
   "cell_type": "code",
   "execution_count": 68,
   "metadata": {},
   "outputs": [],
   "source": [
    "lastMaxSeen = lastMaxSeen.astype(int)"
   ]
  },
  {
   "cell_type": "code",
   "execution_count": 70,
   "metadata": {},
   "outputs": [],
   "source": [
    "sequence = np.zeros(shape=(totalObs))\n",
    "timeMat = np.zeros(shape=(totalObs))\n",
    "lastMaxIndex = np.argmax(logProb[:,-1])\n",
    "iteration = totalObs - 1\n",
    "while(iteration >= 0):\n",
    "    timeMat[iteration] = iteration\n",
    "    sequence[iteration] = lastMaxIndex\n",
    "    lastMaxIndex = lastMaxSeen[iteration][lastMaxIndex]\n",
    "    iteration -= 1"
   ]
  },
  {
   "cell_type": "code",
   "execution_count": 71,
   "metadata": {},
   "outputs": [
    {
     "data": {
      "image/png": "[encoded data removed]",
      "text/plain": [
       "<matplotlib.figure.Figure at 0x6bede90>"
      ]
     },
     "metadata": {},
     "output_type": "display_data"
    }
   ],
   "source": [
    "import matplotlib.pyplot as plt\n",
    "plt.plot(timeMat, sequence)\n",
    "plt.show()"
   ]
  },
  {
   "cell_type": "code",
   "execution_count": 74,
   "metadata": {},
   "outputs": [
    {
     "name": "stdout",
     "output_type": "stream",
     "text": [
      "truth is stranger than fiction\n"
     ]
    }
   ],
   "source": [
    "import string\n",
    "from itertools import groupby\n",
    "sentence = []\n",
    "for x in groupby(sequence):\n",
    "    sentence.append(x[0])\n",
    "\n",
    "d = dict(enumerate(string.ascii_lowercase, 0))\n",
    "decodedString = \"\"\n",
    "for i in sentence:\n",
    "    if (i == 26):\n",
    "        decodedString += \" \"\n",
    "    else:\n",
    "        decodedString += d[i]\n",
    "print(decodedString)"
   ]
  },
  {
   "cell_type": "code",
   "execution_count": null,
   "metadata": {},
   "outputs": [],
   "source": []
  }
 ],
 "metadata": {
  "kernelspec": {
   "display_name": "Python 3",
   "language": "python",
   "name": "python3"
  },
  "language_info": {
   "codemirror_mode": {
    "name": "ipython",
    "version": 3
   },
   "file_extension": ".py",
   "mimetype": "text/x-python",
   "name": "python",
   "nbconvert_exporter": "python",
   "pygments_lexer": "ipython3",
   "version": "3.6.3"
  }
 },
 "nbformat": 4,
 "nbformat_minor": 2
}
