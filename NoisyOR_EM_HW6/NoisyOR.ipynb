{
 "cells": [
  {
   "cell_type": "code",
   "execution_count": 237,
   "metadata": {},
   "outputs": [
    {
     "name": "stdout",
     "output_type": "stream",
     "text": [
      "267\n"
     ]
    }
   ],
   "source": [
    "import math\n",
    "from __future__ import division\n",
    "x = []\n",
    "y = []\n",
    "\n",
    "def readFile():\n",
    "    global x\n",
    "    global y\n",
    "    f = open(\"hw6_spectX.txt\")\n",
    "    for l in f.readlines():\n",
    "        temp = []\n",
    "        for w in l.split():\n",
    "            temp.append(int(w))\n",
    "        x.append(temp)\n",
    "    f = open(\"hw6_spectY.txt\")\n",
    "    for l in f.readlines():\n",
    "        for w in l.split():\n",
    "            y.append(int(w))\n",
    "\n",
    "readFile()\n",
    "print(len(x))\n",
    "probygivenx = [0.0 for x in range(len(x))]\n",
    "probzxgivenxy = [[0.0]*len(p)]*len(x)\n",
    "#print(probzxgivenxy)\n",
    "#print(y)"
   ]
  },
  {
   "cell_type": "code",
   "execution_count": 238,
   "metadata": {},
   "outputs": [],
   "source": [
    "def probYgivenX():\n",
    "    global p\n",
    "    global probygivenx\n",
    "    global x\n",
    "    global y\n",
    "    for i in range(len(x)):\n",
    "        prod = 1.0\n",
    "        for j in range(len(x[i])):\n",
    "            #print(p[j])\n",
    "            prod = prod * (math.pow((1-p[j]),x[i][j]))\n",
    "        if(y[i]==1):\n",
    "            prod = 1 - prod\n",
    "        #print(prod)\n",
    "        probygivenx[i] = prod\n",
    "    #print(probygivenx)\n",
    "#probYgivenX()"
   ]
  },
  {
   "cell_type": "code",
   "execution_count": 239,
   "metadata": {},
   "outputs": [],
   "source": [
    "def probZXgivenXY():\n",
    "    global probzxgivenxy\n",
    "    global p\n",
    "    global probygivenx\n",
    "    global x\n",
    "    global y\n",
    "    probYgivenX()\n",
    "    for i in range(len(x)):\n",
    "        for j in range(len(p)):\n",
    "            '''print(\"-----------\")\n",
    "            print(x[i][j])\n",
    "            print(p[j])\n",
    "            print(y[i])\n",
    "            print(probygivenx[i])\n",
    "            print(\"------------\")'''\n",
    "            probzxgivenxy[i][j] = float((float(x[i][j]*p[j]*y[i]))/float(probygivenx[i]))\n",
    "            '''print(probzxgivenxy[i][j])\n",
    "            print(\"------------\")'''\n",
    "    #print(probzxgivenxy)"
   ]
  },
  {
   "cell_type": "code",
   "execution_count": 240,
   "metadata": {},
   "outputs": [],
   "source": [
    "def updateP():\n",
    "    global p\n",
    "    global probygivenx\n",
    "    global x\n",
    "    global y\n",
    "    global probzxgivenxy\n",
    "    for j in range(len(p)):\n",
    "        count = 0.0\n",
    "        num = 0.0\n",
    "        for i in range(len(x)):\n",
    "            if(x[i][j]==1):\n",
    "                count += 1\n",
    "            num = num + probzxgivenxy[i][j]\n",
    "            #print(probzxgivenxy[i][j])\n",
    "        #print(num)\n",
    "        #//print(count)\n",
    "        p[j] = num/count\n",
    "        \n",
    "    print(p)"
   ]
  },
  {
   "cell_type": "code",
   "execution_count": 245,
   "metadata": {},
   "outputs": [
    {
     "ename": "ZeroDivisionError",
     "evalue": "float division by zero",
     "output_type": "error",
     "traceback": [
      "\u001b[0;31m---------------------------------------------------------------------------\u001b[0m",
      "\u001b[0;31mZeroDivisionError\u001b[0m                         Traceback (most recent call last)",
      "\u001b[0;32m<ipython-input-245-c2360398551e>\u001b[0m in \u001b[0;36m<module>\u001b[0;34m()\u001b[0m\n\u001b[1;32m      8\u001b[0m \u001b[0;32mfor\u001b[0m \u001b[0mi\u001b[0m \u001b[0;32min\u001b[0m \u001b[0mrange\u001b[0m\u001b[0;34m(\u001b[0m\u001b[0;36m256\u001b[0m\u001b[0;34m)\u001b[0m\u001b[0;34m:\u001b[0m\u001b[0;34m\u001b[0m\u001b[0m\n\u001b[1;32m      9\u001b[0m     \u001b[0;31m#probYgivenX()\u001b[0m\u001b[0;34m\u001b[0m\u001b[0;34m\u001b[0m\u001b[0m\n\u001b[0;32m---> 10\u001b[0;31m     \u001b[0mprobZXgivenXY\u001b[0m\u001b[0;34m(\u001b[0m\u001b[0;34m)\u001b[0m\u001b[0;34m\u001b[0m\u001b[0m\n\u001b[0m\u001b[1;32m     11\u001b[0m     \u001b[0mupdateP\u001b[0m\u001b[0;34m(\u001b[0m\u001b[0;34m)\u001b[0m\u001b[0;34m\u001b[0m\u001b[0m\n\u001b[1;32m     12\u001b[0m     \u001b[0mprobYgivenX\u001b[0m\u001b[0;34m(\u001b[0m\u001b[0;34m)\u001b[0m\u001b[0;34m\u001b[0m\u001b[0m\n",
      "\u001b[0;32m<ipython-input-239-0ce1307b4360>\u001b[0m in \u001b[0;36mprobZXgivenXY\u001b[0;34m()\u001b[0m\n\u001b[1;32m     13\u001b[0m             \u001b[0mprint\u001b[0m\u001b[0;34m(\u001b[0m\u001b[0mprobygivenx\u001b[0m\u001b[0;34m[\u001b[0m\u001b[0mi\u001b[0m\u001b[0;34m]\u001b[0m\u001b[0;34m)\u001b[0m\u001b[0;34m\u001b[0m\u001b[0m\n\u001b[1;32m     14\u001b[0m             print(\"------------\")'''\n\u001b[0;32m---> 15\u001b[0;31m             \u001b[0mprobzxgivenxy\u001b[0m\u001b[0;34m[\u001b[0m\u001b[0mi\u001b[0m\u001b[0;34m]\u001b[0m\u001b[0;34m[\u001b[0m\u001b[0mj\u001b[0m\u001b[0;34m]\u001b[0m \u001b[0;34m=\u001b[0m \u001b[0mfloat\u001b[0m\u001b[0;34m(\u001b[0m\u001b[0;34m(\u001b[0m\u001b[0mfloat\u001b[0m\u001b[0;34m(\u001b[0m\u001b[0mx\u001b[0m\u001b[0;34m[\u001b[0m\u001b[0mi\u001b[0m\u001b[0;34m]\u001b[0m\u001b[0;34m[\u001b[0m\u001b[0mj\u001b[0m\u001b[0;34m]\u001b[0m\u001b[0;34m*\u001b[0m\u001b[0mp\u001b[0m\u001b[0;34m[\u001b[0m\u001b[0mj\u001b[0m\u001b[0;34m]\u001b[0m\u001b[0;34m*\u001b[0m\u001b[0my\u001b[0m\u001b[0;34m[\u001b[0m\u001b[0mi\u001b[0m\u001b[0;34m]\u001b[0m\u001b[0;34m)\u001b[0m\u001b[0;34m)\u001b[0m\u001b[0;34m/\u001b[0m\u001b[0mfloat\u001b[0m\u001b[0;34m(\u001b[0m\u001b[0mprobygivenx\u001b[0m\u001b[0;34m[\u001b[0m\u001b[0mi\u001b[0m\u001b[0;34m]\u001b[0m\u001b[0;34m)\u001b[0m\u001b[0;34m)\u001b[0m\u001b[0;34m\u001b[0m\u001b[0m\n\u001b[0m\u001b[1;32m     16\u001b[0m             '''print(probzxgivenxy[i][j])\n\u001b[1;32m     17\u001b[0m             print(\"------------\")'''\n",
      "\u001b[0;31mZeroDivisionError\u001b[0m: float division by zero"
     ]
    }
   ],
   "source": [
    "import math\n",
    "p = [0.05 for x in range(23)]\n",
    "probygivenx = [0.0 for x in range(len(x))]\n",
    "probzxgivenxy = [[0.0]*len(p) for y in range(len(x))]\n",
    "#probYgivenX()\n",
    "plotX = []\n",
    "plotY = []\n",
    "for i in range(256):\n",
    "    #probYgivenX()\n",
    "    probZXgivenXY()\n",
    "    updateP()\n",
    "    probYgivenX()\n",
    "    plotX.append(i)\n",
    "    #print(i)\n",
    "    logll = 0.0\n",
    "    for i in range(len(x)):\n",
    "        if(y[i]==1):\n",
    "            logll + math.log(probygivenx[i])\n",
    "        if(y[i]==0):\n",
    "            logll += (1-math.log(probygivenx[i]))\n",
    "    logll = logll/len(x)\n",
    "    plotY.append(logll)\n",
    "    #print(logll)\n",
    "\n",
    "import matplotlib.pyplot as plt\n",
    "\n",
    "plt.plot(plotX, plotY)\n",
    "plt.show()\n",
    "    "
   ]
  },
  {
   "cell_type": "code",
   "execution_count": null,
   "metadata": {},
   "outputs": [],
   "source": []
  }
 ],
 "metadata": {
  "kernelspec": {
   "display_name": "Python 3",
   "language": "python",
   "name": "python3"
  },
  "language_info": {
   "codemirror_mode": {
    "name": "ipython",
    "version": 3
   },
   "file_extension": ".py",
   "mimetype": "text/x-python",
   "name": "python",
   "nbconvert_exporter": "python",
   "pygments_lexer": "ipython3",
   "version": "3.6.3"
  }
 },
 "nbformat": 4,
 "nbformat_minor": 2
}
